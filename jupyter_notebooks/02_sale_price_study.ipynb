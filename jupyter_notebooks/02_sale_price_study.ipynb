{
 "cells": [
  {
   "attachments": {},
   "cell_type": "markdown",
   "metadata": {},
   "source": [
    "# Sales price study Notebook"
   ]
  },
  {
   "attachments": {},
   "cell_type": "markdown",
   "metadata": {},
   "source": [
    "## Objectives.\n",
    "\n",
    "- This are the answers for the business requirement 1.\n",
    "    - My niece is interested in discovering how the house attributes correlate with the sale price of the houses. \n",
    "    - Therefore, my niece is expecting a data visualization of the correlated variables against the sale price. \n",
    "\n",
    "- Load and inspect the data prepared during data collection (01_data_collection).\n",
    "- Data Exploration.\n",
    "- EDA on selected variables.\n",
    "- Conclusion and next steps."
   ]
  },
  {
   "attachments": {},
   "cell_type": "markdown",
   "metadata": {},
   "source": [
    "## Inputs:\n",
    "\n",
    "- inputs/datasets/raw/house-price-20211124T154130Z-001/house-price/house_prices_records.csv"
   ]
  },
  {
   "attachments": {},
   "cell_type": "markdown",
   "metadata": {},
   "source": [
    "Additional Comments: \n",
    "\n",
    "- This notebook has been written with the help from my colleagues, the walkthrough project and the data cleaning lesson provided within the course.\n",
    "- This notebook is designed to allow us to explore the data using the CRISP-DM data understanding methodology. "
   ]
  },
  {
   "attachments": {},
   "cell_type": "markdown",
   "metadata": {},
   "source": [
    "___\n"
   ]
  },
  {
   "attachments": {},
   "cell_type": "markdown",
   "metadata": {},
   "source": [
    "## Changing the working directory:\n",
    "\n",
    "Change the working directory from its current folder to its parent folder: \n",
    "\n",
    "- Access the current directory with os.getcwd()"
   ]
  },
  {
   "cell_type": "code",
   "execution_count": null,
   "metadata": {},
   "outputs": [],
   "source": [
    "import os\n",
    "current_dir = os.getcwd()\n",
    "current_dir"
   ]
  },
  {
   "attachments": {},
   "cell_type": "markdown",
   "metadata": {},
   "source": [
    "We want to make the parent of the current directory the new current directory.\n",
    " \n",
    "    - os.path.dirname() gets the parent directory.\n",
    "    - os.chir() defines the new current directory. "
   ]
  },
  {
   "cell_type": "code",
   "execution_count": null,
   "metadata": {},
   "outputs": [],
   "source": [
    "os.chdir(os.path.dirname(current_dir))\n",
    "print(\"You set a new current directory, congrats!\")"
   ]
  },
  {
   "attachments": {},
   "cell_type": "markdown",
   "metadata": {},
   "source": [
    "The following command will confirm the new current directory: "
   ]
  },
  {
   "cell_type": "code",
   "execution_count": null,
   "metadata": {},
   "outputs": [],
   "source": [
    "current_dir = os.getcwd()\n",
    "current_dir"
   ]
  },
  {
   "attachments": {},
   "cell_type": "markdown",
   "metadata": {},
   "source": [
    "___"
   ]
  },
  {
   "attachments": {},
   "cell_type": "markdown",
   "metadata": {},
   "source": [
    "Now that this is done, we will need to import Packages:\n",
    "\n",
    "## Import Packages:"
   ]
  },
  {
   "cell_type": "code",
   "execution_count": null,
   "metadata": {},
   "outputs": [],
   "source": [
    "import pandas as pd\n",
    "pd.options.display.max_columns = None\n",
    "pd.options.display.max_rows = None\n",
    "from pandas_profiling import ProfileReport"
   ]
  },
  {
   "attachments": {},
   "cell_type": "markdown",
   "metadata": {},
   "source": [
    "Now that we have imported the pandas packages we can load the houses price records previously prepared: "
   ]
  },
  {
   "cell_type": "code",
   "execution_count": null,
   "metadata": {},
   "outputs": [],
   "source": [
    "df = pd.read_csv(f\"inputs/datasets/raw/house-price-20211124T154130Z-001/house-price/house_prices_records.csv\")\n",
    "print(df.shape)\n",
    "df.head()"
   ]
  },
  {
   "attachments": {},
   "cell_type": "markdown",
   "metadata": {},
   "source": [
    "## Data Exploration:\n",
    "\n",
    "- We have the data, now we have to explore the dataset, by checking variable types and distribution, missing levels and what value these variables may add in the context of the first business requirement. "
   ]
  },
  {
   "cell_type": "code",
   "execution_count": null,
   "metadata": {},
   "outputs": [],
   "source": [
    "pandas_report = ProfileReport(df=df, minimal=True)\n",
    "pandas_report.to_notebook_iframe()"
   ]
  },
  {
   "attachments": {},
   "cell_type": "markdown",
   "metadata": {},
   "source": [
    "___\n"
   ]
  },
  {
   "attachments": {},
   "cell_type": "markdown",
   "metadata": {},
   "source": [
    "## Correlation Study\n",
    "\n",
    "Asses correlation levels across numerical variables using 'Spearman' and 'Pearson' methods.\n",
    "\n",
    "- We will exclude the first item returned as this will be the correlation between SalePrice (Pearson) and SalePrice (Spearman).\n",
    "- The ideal is to be able to fetch only the most relevant correlations. (We will correlate 10)"
   ]
  },
  {
   "attachments": {},
   "cell_type": "markdown",
   "metadata": {},
   "source": [
    "### Pearson Method:\n",
    "\n",
    "- Using the 'Pearson' method to measure the linear relationship between two features."
   ]
  },
  {
   "cell_type": "code",
   "execution_count": null,
   "metadata": {},
   "outputs": [],
   "source": [
    "corr_pearson = df.corr(method='pearson')['SalePrice'].sort_values(key=abs, ascending=False)[1:].head(10)\n",
    "corr_pearson"
   ]
  },
  {
   "attachments": {},
   "cell_type": "markdown",
   "metadata": {},
   "source": [
    "## Spearman Method:\n",
    "\n",
    "- Using the 'Spearman' method to measure the linear relationship between two features."
   ]
  },
  {
   "cell_type": "code",
   "execution_count": null,
   "metadata": {},
   "outputs": [],
   "source": [
    "corr_spearman = df.corr(method='spearman')['SalePrice'].sort_values(key=abs, ascending=False)[1:].head(10)\n",
    "corr_spearman"
   ]
  },
  {
   "attachments": {},
   "cell_type": "markdown",
   "metadata": {},
   "source": [
    "After conducting the correlation study with the 2 methods (Pearson & Spearman) we got to the conclusion that there are positively strong levels of correlation. (This level of correlation is between Sales Price and at least 5 variables)"
   ]
  },
  {
   "attachments": {},
   "cell_type": "markdown",
   "metadata": {},
   "source": [
    "### Investigation:\n",
    "\n",
    "- We will take the top 5 variables returned for each method, and transform them into a list by concatenate the two lists.\n",
    "- After this we will be able to visualize a unique correlation from both methods combined. "
   ]
  },
  {
   "cell_type": "code",
   "execution_count": null,
   "metadata": {},
   "outputs": [],
   "source": [
    "top_n = 5\n",
    "set(corr_pearson[:top_n].index.to_list() + corr_spearman[:top_n].index.to_list())"
   ]
  },
  {
   "attachments": {},
   "cell_type": "markdown",
   "metadata": {},
   "source": [
    "- This results 6 variables (1stFlrSF, GarageArea, GrLivArea, OverallQual, TotalBsmtSF, YearBuilt) that correlate to Sale Price.\n",
    "- These 6 variables will be tested on strength to predicting the Sale Price."
   ]
  },
  {
   "cell_type": "code",
   "execution_count": null,
   "metadata": {},
   "outputs": [],
   "source": [
    "corr_var_list = list(set(corr_pearson[:top_n].index.to_list() + corr_spearman[:top_n].index.to_list()))\n",
    "corr_var_list"
   ]
  },
  {
   "attachments": {},
   "cell_type": "markdown",
   "metadata": {},
   "source": [
    "___"
   ]
  },
  {
   "attachments": {},
   "cell_type": "markdown",
   "metadata": {},
   "source": [
    "## EDA on the correlated variable list.\n",
    "\n",
    "- Filter the house price dataset on only the correlated variable list and include the sale price."
   ]
  },
  {
   "cell_type": "code",
   "execution_count": null,
   "metadata": {},
   "outputs": [],
   "source": [
    "df_eda = df.filter(corr_var_list + ['SalePrice'])\n",
    "print(df_eda.shape)\n",
    "df_eda.head(7)"
   ]
  },
  {
   "attachments": {},
   "cell_type": "markdown",
   "metadata": {},
   "source": [
    "### Visualize variable correlation to Sale Price:\n",
    "\n",
    "- Plot the distribution: \n",
    "\n"
   ]
  },
  {
   "cell_type": "code",
   "execution_count": null,
   "metadata": {},
   "outputs": [],
   "source": [
    "import matplotlib.pyplot as plt\n",
    "import seaborn as sns\n",
    "sns.set_style('whitegrid')\n",
    "\n",
    "%matplotlib inline\n",
    "\n",
    "def plot_numerical(df, col, target_var):\n",
    "  plt.figure(figsize=(15, 8))\n",
    "  sns.regplot(data=df, x=col, y=target_var)  \n",
    "  plt.title(f\"{col}\", fontsize=20)\n",
    "  plt.show()\n",
    "\n",
    "\n",
    "target_var = 'SalePrice'\n",
    "for col in corr_var_list:\n",
    "  plot_numerical(df_eda, col, target_var)\n",
    "  print(\"\\n\\n\")"
   ]
  },
  {
   "attachments": {},
   "cell_type": "markdown",
   "metadata": {},
   "source": [
    "___"
   ]
  },
  {
   "attachments": {},
   "cell_type": "markdown",
   "metadata": {},
   "source": [
    "## Conclusion and the next steps:"
   ]
  },
  {
   "attachments": {},
   "cell_type": "markdown",
   "metadata": {},
   "source": [
    "**The correlations and plots interpretation converge.**\n",
    "\n",
    "- The following are the variables isolated in the correlation study:\n",
    "    - 1stFlrSF: First Floor square feet.\n",
    "    - GarageArea: Size of the garage in square feet.\n",
    "    - GrLivArea: Above grade living area square feet.\n",
    "    - OverallQual: Rates the overall material and finish of the house when constructed / refurbished.\n",
    "    - YearBuilt: Original construction date. (1972 to 2010).\n",
    "    - TotalBsmtSF: Total square feet of basement area.\n",
    "\n",
    "- Following the above analyses, we consider that the important elements playing a very important role in the house pricing are the following:\n",
    "        - Ground floor living area,\n",
    "        - Basement area,\n",
    "        - Garage area.\n",
    "- In addition other important factor in house pricing is the year that the house has been built and the quality of the materials used in building or refurbishing the house.\n",
    "\n",
    "- The plots shows that the variables, isolated in the correlation study, do indeed have a strong correlation and possibly a strong predictive power of the Sale Price for these houses. \n",
    "\n",
    "- Our next step will be data cleaning. Let's go! :)\n",
    "\n",
    "\n",
    "*Please refer to the readme.md file to be able to understand better the parameters and the naming used within this project.\n",
    "Please keep in mind that this prices represent every pice of each house until 2010*.\n",
    "\n",
    "*The house prices have been increasing lately due to the high interest in mortgages, inflation (Resulting in a higher price of materials) and many other factors. This project is mostly fictional with a public dataset provided by Code Institute, please do not take a financial advice from this project. 😃*\n",
    "\n"
   ]
  },
  {
   "attachments": {},
   "cell_type": "markdown",
   "metadata": {},
   "source": [
    "___"
   ]
  }
 ],
 "metadata": {
  "kernelspec": {
   "display_name": "Python 3",
   "language": "python",
   "name": "python3"
  },
  "language_info": {
   "codemirror_mode": {
    "name": "ipython",
    "version": 3
   },
   "file_extension": ".py",
   "mimetype": "text/x-python",
   "name": "python",
   "nbconvert_exporter": "python",
   "pygments_lexer": "ipython3",
   "version": "3.8.12 (default, Jan 19 2023, 19:45:31) \n[GCC 9.4.0]"
  },
  "orig_nbformat": 4,
  "vscode": {
   "interpreter": {
    "hash": "8b8334dab9339717f727a1deaf837b322d7a41c20d15cc86be99a8e69ceec8ce"
   }
  }
 },
 "nbformat": 4,
 "nbformat_minor": 2
}
